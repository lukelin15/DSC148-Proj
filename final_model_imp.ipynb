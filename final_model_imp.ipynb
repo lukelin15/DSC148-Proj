{
 "cells": [
  {
   "cell_type": "code",
   "execution_count": 1,
   "metadata": {},
   "outputs": [],
   "source": [
    "import pandas as pd \n",
    "\n",
    "accident_data = pd.read_csv('dataset/accident_data.csv')"
   ]
  },
  {
   "cell_type": "code",
   "execution_count": 3,
   "metadata": {},
   "outputs": [
    {
     "data": {
      "text/plain": [
       "Index                          0\n",
       "Accident_Severity              0\n",
       "Accident Date                  0\n",
       "Latitude                      25\n",
       "Light_Conditions               0\n",
       "District Area                  0\n",
       "Longitude                     26\n",
       "Number_of_Casualties           0\n",
       "Number_of_Vehicles             0\n",
       "Road_Surface_Conditions      726\n",
       "Road_Type                   4520\n",
       "Urban_or_Rural_Area           15\n",
       "Weather_Conditions         14128\n",
       "Vehicle_Type                   0\n",
       "dtype: int64"
      ]
     },
     "execution_count": 3,
     "metadata": {},
     "output_type": "execute_result"
    }
   ],
   "source": [
    "from sklearn.model_selection import train_test_split\n",
    "from sklearn.preprocessing import LabelEncoder\n",
    "\n",
    "accident_data_copy = accident_data.copy()\n",
    "accident_data_copy.isnull().sum()"
   ]
  },
  {
   "cell_type": "code",
   "execution_count": 5,
   "metadata": {},
   "outputs": [],
   "source": [
    "for column in accident_data_copy.columns:\n",
    "    if accident_data_copy[column].dtype == type(object):\n",
    "        le = LabelEncoder()\n",
    "        accident_data_copy[column] = le.fit_transform(accident_data_copy[column])\n",
    "def impute_na(df, variable, fillval):\n",
    "    df[variable] = df[variable].fillna(fillval)\n",
    "\n",
    "impute_na(accident_data_copy, 'Latitude', accident_data_copy['Latitude'].median())\n",
    "impute_na(accident_data_copy, 'Longitude', accident_data_copy['Longitude'].median())\n",
    "impute_na(accident_data_copy, 'Road_Surface_Conditions', accident_data_copy['Road_Surface_Conditions'].median())\n",
    "impute_na(accident_data_copy, 'Road_Type', accident_data_copy['Road_Type'].median())\n",
    "impute_na(accident_data_copy, 'Urban_or_Rural_Area', accident_data_copy['Urban_or_Rural_Area'].median())\n",
    "impute_na(accident_data_copy, 'Weather_Conditions', accident_data_copy['Weather_Conditions'].median())\n",
    "\n",
    "features = accident_data_copy.drop('Accident_Severity', axis=1)\n",
    "labels = accident_data_copy['Accident_Severity']\n",
    "# X_train, X_test, y_train, y_test = train_test_split(features, labels, test_size=0.2, random_state=42)"
   ]
  },
  {
   "cell_type": "code",
   "execution_count": 7,
   "metadata": {},
   "outputs": [
    {
     "data": {
      "text/plain": [
       "Index                              0\n",
       "Accident Date                      0\n",
       "Latitude                          25\n",
       "Light_Conditions                   0\n",
       "District Area                      0\n",
       "Longitude                         26\n",
       "Number_of_Casualties               0\n",
       "Number_of_Vehicles                 0\n",
       "Road_Surface_Conditions            0\n",
       "Road_Type                          0\n",
       "Urban_or_Rural_Area                0\n",
       "Weather_Conditions                 0\n",
       "Vehicle_Type                       0\n",
       "Latitude_filled                    0\n",
       "Longitude_filled                   0\n",
       "Road_Surface_Conditions_filled     0\n",
       "Road_Type_filled                   0\n",
       "Urban_or_Rural_Area_filled         0\n",
       "Weather_Conditions_filled          0\n",
       "dtype: int64"
      ]
     },
     "execution_count": 7,
     "metadata": {},
     "output_type": "execute_result"
    }
   ],
   "source": [
    "features.isnull().sum()"
   ]
  },
  {
   "cell_type": "code",
   "execution_count": null,
   "metadata": {},
   "outputs": [],
   "source": [
    "from imblearn.over_sampling import SMOTE\n",
    "from sklearn.feature_selection import SelectKBest, chi2\n",
    "from sklearn.ensemble import RandomForestClassifier\n",
    "from sklearn.metrics import classification_report\n",
    "from sklearn.model_selection import GridSearchCV\n",
    "from sklearn.feature_selection import SelectKBest, mutual_info_classif\n",
    "\n",
    "# Handle class imbalance\n",
    "smote = SMOTE(random_state=42)\n",
    "features_res, labels_res = smote.fit_resample(features, labels)\n",
    "\n",
    "# Feature selection\n",
    "selector = SelectKBest(mutual_info_classif, k=10)\n",
    "features_res = selector.fit_transform(features_res, labels_res)\n",
    "\n",
    "# Split data\n",
    "X_train, X_test, y_train, y_test = train_test_split(features_res, labels_res, test_size=0.2, random_state=42)\n",
    "\n",
    "# Hyperparameter tuning \n",
    "# A Lot less cuz I don't have a lot of time :)\n",
    "param_grid = {\n",
    "    'n_estimators': [50, 100, 200]\n",
    "}\n",
    "grid_search = GridSearchCV(RandomForestClassifier(random_state=42), param_grid, cv=5, scoring='f1_macro')\n",
    "grid_search.fit(X_train, y_train)\n",
    "\n",
    "# Train model\n",
    "model = grid_search.best_estimator_\n",
    "model.fit(X_train, y_train)\n",
    "\n",
    "# Evaluate model\n",
    "predictions = model.predict(X_test)\n",
    "print(classification_report(y_test, predictions))"
   ]
  },
  {
   "cell_type": "code",
   "execution_count": null,
   "metadata": {},
   "outputs": [],
   "source": [
    "import joblib\n",
    "\n",
    "# Serialize the trained model\n",
    "joblib.dump(model, 'random_forest_model.pkl')"
   ]
  },
  {
   "cell_type": "code",
   "execution_count": null,
   "metadata": {},
   "outputs": [],
   "source": [
    "features.columns"
   ]
  },
  {
   "cell_type": "code",
   "execution_count": null,
   "metadata": {},
   "outputs": [],
   "source": []
  }
 ],
 "metadata": {
  "kernelspec": {
   "display_name": "CSE",
   "language": "python",
   "name": "python3"
  },
  "language_info": {
   "codemirror_mode": {
    "name": "ipython",
    "version": 3
   },
   "file_extension": ".py",
   "mimetype": "text/x-python",
   "name": "python",
   "nbconvert_exporter": "python",
   "pygments_lexer": "ipython3",
   "version": "3.11.5"
  }
 },
 "nbformat": 4,
 "nbformat_minor": 2
}
