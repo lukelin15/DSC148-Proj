{
  "cells": [
    {
      "cell_type": "code",
      "execution_count": null,
      "metadata": {
        "id": "tn4qmiBd-niy"
      },
      "outputs": [],
      "source": [
        "# import libraries, other imports are as we go through encoding\n",
        "import pandas as pd\n",
        "import numpy as np\n",
        "import seaborn as sns\n",
        "import matplotlib.pyplot as plt"
      ]
    },
    {
      "cell_type": "code",
      "execution_count": null,
      "metadata": {
        "colab": {
          "base_uri": "https://localhost:8080/",
          "height": 411
        },
        "id": "Z2-Hs6vw-tOj",
        "outputId": "e18cf7e8-a8c7-4c78-8495-a4cee524f2cc"
      },
      "outputs": [],
      "source": [
        "accident = pd.read_csv('dataset/accident_data.csv')\n",
        "accident.head()"
      ]
    },
    {
      "cell_type": "markdown",
      "metadata": {
        "id": "znMUnZgF-yKR"
      },
      "source": [
        "## Data Cleaning"
      ]
    },
    {
      "cell_type": "code",
      "execution_count": null,
      "metadata": {
        "colab": {
          "base_uri": "https://localhost:8080/"
        },
        "id": "QMakE5Hx-znQ",
        "outputId": "f7473f4c-65a0-4086-a64c-1abc7956928d"
      },
      "outputs": [],
      "source": [
        "accident.shape"
      ]
    },
    {
      "cell_type": "code",
      "execution_count": null,
      "metadata": {
        "colab": {
          "base_uri": "https://localhost:8080/"
        },
        "id": "KA2ws9tZ-1Tq",
        "outputId": "fd72bede-c266-4606-b965-d41433f31625"
      },
      "outputs": [],
      "source": [
        "# get all the datatypes\n",
        "# date is a str\n",
        "accident.dtypes"
      ]
    },
    {
      "cell_type": "code",
      "execution_count": null,
      "metadata": {
        "colab": {
          "base_uri": "https://localhost:8080/"
        },
        "id": "Yvz1FtQC-2XH",
        "outputId": "32cbae56-1afa-4fc2-8623-de697eee211a"
      },
      "outputs": [],
      "source": [
        "# number of unique values in each column\n",
        "for col in accident.columns:\n",
        "  print(f'{col}: {accident[col].nunique()}')"
      ]
    },
    {
      "cell_type": "code",
      "execution_count": null,
      "metadata": {
        "id": "voaLIyuVEx5f"
      },
      "outputs": [],
      "source": [
        "# make a copy of accident dataframe\n",
        "accident_copy = accident.copy()"
      ]
    },
    {
      "cell_type": "code",
      "execution_count": null,
      "metadata": {
        "colab": {
          "base_uri": "https://localhost:8080/",
          "height": 297
        },
        "id": "ZdHQZ-PTKmJn",
        "outputId": "fd0e27e3-bfe4-49a3-a1b8-d21830f97cc9"
      },
      "outputs": [],
      "source": [
        "# get general idea of min max for the numerical columns (no anomalies)\n",
        "accident_copy.describe()"
      ]
    },
    {
      "cell_type": "markdown",
      "metadata": {
        "id": "W7z1mJaZ_5kg"
      },
      "source": [
        "Accident Date"
      ]
    },
    {
      "cell_type": "code",
      "execution_count": null,
      "metadata": {
        "id": "Gtl1yNx3-5Me"
      },
      "outputs": [],
      "source": [
        "# turn dates column into three columns: day, month, year\n",
        "accident_copy['Day'] = accident['Accident Date'].str.split('-').apply(lambda x: int(x[0]))\n",
        "accident_copy['Month'] = accident['Accident Date'].str.split('-').apply(lambda x: int(x[1]))\n",
        "accident_copy['Year'] = accident['Accident Date'].str.split('-').apply(lambda x: int(x[2]))\n",
        "\n",
        "accident_copy['Accident_Date'] = pd.to_datetime(accident['Accident Date'], format=\"%d-%m-%Y\")\n",
        "accident_copy = accident_copy.drop(columns=['Accident Date'])"
      ]
    },
    {
      "cell_type": "markdown",
      "metadata": {},
      "source": [
        "Latitude and Longitude"
      ]
    },
    {
      "cell_type": "code",
      "execution_count": null,
      "metadata": {},
      "outputs": [],
      "source": [
        "# Drop Longitude/ Latitude\n",
        "accident_copy = accident_copy.dropna(subset=['Latitude'])\n",
        "accident_copy = accident_copy.dropna(subset=['Longitude'])"
      ]
    },
    {
      "cell_type": "markdown",
      "metadata": {
        "id": "XaMN5rb5_77A"
      },
      "source": [
        "Light_Conditions"
      ]
    },
    {
      "cell_type": "code",
      "execution_count": null,
      "metadata": {
        "id": "DKi2brqR-8bA"
      },
      "outputs": [],
      "source": [
        "# assume NaN for 'Darkness - lighting unknown'\n",
        "accident_copy['Light_Conditions'] = accident['Light_Conditions'].replace('Darkness - lighting unknown', np.NaN)"
      ]
    },
    {
      "cell_type": "markdown",
      "metadata": {
        "id": "LLTDeI7ZMOqZ"
      },
      "source": [
        "District Area"
      ]
    },
    {
      "cell_type": "code",
      "execution_count": null,
      "metadata": {
        "id": "HiTEIiV_MOCU"
      },
      "outputs": [],
      "source": [
        "# rename District Area so it is consistent in column formatting\n",
        "accident_copy = accident_copy.rename(columns={'District Area': 'District_Area'})\n"
      ]
    },
    {
      "cell_type": "markdown",
      "metadata": {
        "id": "BZxohqxuBbZs"
      },
      "source": [
        "Weather_Conditions"
      ]
    },
    {
      "cell_type": "code",
      "execution_count": null,
      "metadata": {
        "id": "13HX09-tAy4O"
      },
      "outputs": [],
      "source": [
        "# weather conditions seem to have combinations, so we could one hot encode it instead\n",
        "# the categories include 'Fine', 'High Winds', 'Raining', 'Snowing', 'Fog or mist', 'Other'\n",
        "\n",
        "# first split up the labels into lists\n",
        "accident_copy['Weather_Conditions'] = accident['Weather_Conditions'].apply(\n",
        "    lambda x: ['Fine'] if x == 'Fine no high winds'\n",
        "    else ['Raining'] if x == 'Raining no high winds'\n",
        "    else ['Fine', 'High winds'] if x == 'Fine + high winds'\n",
        "    else ['Raining', 'High winds'] if x == 'Raining + high winds'\n",
        "    else ['Snowing'] if x == 'Snowing no high winds'\n",
        "    else ['Fog or mist'] if x == 'Fog or mist'\n",
        "    else ['Snowing', 'High winds'] if x == 'Snowing + high winds'\n",
        "    else ['Other'] if x == 'Other'\n",
        "    else np.NaN\n",
        ")"
      ]
    },
    {
      "cell_type": "markdown",
      "metadata": {
        "id": "UZO7YNS4KL6O"
      },
      "source": [
        "Vehicle_Type"
      ]
    },
    {
      "cell_type": "code",
      "execution_count": null,
      "metadata": {
        "id": "OyDrNZXJJ6t6"
      },
      "outputs": [],
      "source": [
        "# assume NaN for 'Data missing or out of range'\n",
        "accident_copy['Vehicle_Type'] = accident['Vehicle_Type'].replace('Data missing or out of range', np.NaN)"
      ]
    },
    {
      "cell_type": "markdown",
      "metadata": {},
      "source": [
        "Urban_or_Rural_Area"
      ]
    },
    {
      "cell_type": "code",
      "execution_count": null,
      "metadata": {},
      "outputs": [],
      "source": [
        "# assume NaN for 'Data missing or out of range'\n",
        "accident_copy['Urban_or_Rural_Area'] = accident['Urban_or_Rural_Area'].replace('Unallocated', np.NaN)"
      ]
    },
    {
      "cell_type": "code",
      "execution_count": null,
      "metadata": {
        "colab": {
          "base_uri": "https://localhost:8080/"
        },
        "id": "n8gG0pFJJ3rs",
        "outputId": "b8665c83-fe8a-4394-fa98-35f69a24293e"
      },
      "outputs": [],
      "source": [
        "# find out the current number of missing values in the dataset\n",
        "accident_copy.isnull().sum()"
      ]
    },
    {
      "cell_type": "code",
      "execution_count": null,
      "metadata": {
        "colab": {
          "base_uri": "https://localhost:8080/"
        },
        "id": "5ifr5j3TJuM1",
        "outputId": "3bfdb18d-63bc-4497-9ac5-64edccb1abb2"
      },
      "outputs": [],
      "source": [
        "# drop all NaN values\n",
        "accident_copy = accident_copy.dropna()\n",
        "print(f'Before dropping missing values: {accident.shape[0]} rows')\n",
        "print(f'After dropping missing values: {accident_copy.shape[0]} rows')"
      ]
    },
    {
      "cell_type": "code",
      "execution_count": null,
      "metadata": {
        "colab": {
          "base_uri": "https://localhost:8080/",
          "height": 343
        },
        "id": "9In84fwSLo1S",
        "outputId": "06b6e028-ea92-4b1f-ed31-c4e3d4e98baa"
      },
      "outputs": [],
      "source": [
        "# cleaned, but before encoding\n",
        "accident_copy.head()"
      ]
    },
    {
      "cell_type": "markdown",
      "metadata": {
        "id": "p-p8aJn8aLXT"
      },
      "source": [
        "## Exploring Data"
      ]
    },
    {
      "cell_type": "code",
      "execution_count": null,
      "metadata": {
        "colab": {
          "base_uri": "https://localhost:8080/",
          "height": 647
        },
        "id": "A2iL9uffay6z",
        "outputId": "cce86e75-abdd-4e9b-f144-ed22005da38c"
      },
      "outputs": [],
      "source": [
        "plt.figure(figsize=(10, 8))\n",
        "sns.heatmap(accident_copy.select_dtypes(include=['float64', 'int64']).corr(), vmin=-1, vmax=1, center=0, annot=True, cmap= 'coolwarm')\n",
        "plt.show()"
      ]
    },
    {
      "cell_type": "code",
      "execution_count": null,
      "metadata": {},
      "outputs": [],
      "source": [
        "# our data has a lot more Slight casualties\n",
        "sns.countplot(data = accident_copy, x = 'Accident_Severity', order=['Slight', 'Serious', 'Fatal'])\n",
        "plt.title('Counts of Accident Severity')\n",
        "plt.show()"
      ]
    },
    {
      "cell_type": "code",
      "execution_count": null,
      "metadata": {},
      "outputs": [],
      "source": [
        "fig, ax = plt.subplots()\n",
        "\n",
        "sns.kdeplot(accident_copy[accident_copy[\"Accident_Severity\"]==\"Slight\"][\"Number_of_Casualties\"], fill=True, color=\"blue\", label=\"Slight\", ax=ax)\n",
        "sns.kdeplot(accident_copy[accident_copy[\"Accident_Severity\"]==\"Serious\"][\"Number_of_Casualties\"], fill=True, color=\"green\", label=\"Serious\", ax=ax)\n",
        "sns.kdeplot(accident_copy[accident_copy[\"Accident_Severity\"]==\"Fatal\"][\"Number_of_Casualties\"], fill=True, color=\"orange\", label=\"Fatal\", ax=ax)\n",
        "\n",
        "ax.set_xlabel(\"Number of Casualties\")\n",
        "ax.set_ylabel(\"Density\")\n",
        "\n",
        "fig.suptitle(\"Number of Casualties vs. Road Accident Severity\")\n",
        "\n",
        "ax.legend()\n",
        "plt.show()"
      ]
    },
    {
      "cell_type": "code",
      "execution_count": null,
      "metadata": {},
      "outputs": [],
      "source": [
        "fig, ax = plt.subplots()\n",
        "\n",
        "sns.kdeplot(accident_copy[accident_copy[\"Accident_Severity\"]==\"Slight\"][\"Number_of_Vehicles\"], fill=True, color=\"blue\", label=\"Slight\", ax=ax)\n",
        "sns.kdeplot(accident_copy[accident_copy[\"Accident_Severity\"]==\"Serious\"][\"Number_of_Vehicles\"], fill=True, color=\"green\", label=\"Serious\", ax=ax)\n",
        "sns.kdeplot(accident_copy[accident_copy[\"Accident_Severity\"]==\"Fatal\"][\"Number_of_Vehicles\"], fill=True, color=\"orange\", label=\"Fatal\", ax=ax)\n",
        "\n",
        "ax.set_xlabel(\"Number of Vehicles\")\n",
        "ax.set_ylabel(\"Density\")\n",
        "\n",
        "fig.suptitle(\"Number of Vehicles vs. Road Accident Severity\")\n",
        "\n",
        "ax.legend()\n",
        "plt.show()"
      ]
    },
    {
      "cell_type": "code",
      "execution_count": null,
      "metadata": {},
      "outputs": [],
      "source": [
        "sns.catplot(data=accident_copy, x=\"Light_Conditions\", y=\"Number_of_Casualties\", \n",
        "            hue='Accident_Severity', hue_order=['Slight', 'Serious', 'Fatal'], kind=\"bar\")\n",
        "plt.xticks(rotation=20)\n",
        "plt.title('Number of Casualties For Each Light Condition')\n",
        "plt.show()"
      ]
    },
    {
      "cell_type": "code",
      "execution_count": null,
      "metadata": {},
      "outputs": [],
      "source": [
        "sns.catplot(data=accident_copy, x=\"Road_Surface_Conditions\", y=\"Number_of_Casualties\", \n",
        "            hue='Accident_Severity', hue_order=['Slight', 'Serious', 'Fatal'], kind=\"bar\")\n",
        "plt.xticks(rotation=20)\n",
        "plt.title('Number of Casualties For Each Road Condition')\n",
        "plt.show()"
      ]
    },
    {
      "cell_type": "code",
      "execution_count": null,
      "metadata": {},
      "outputs": [],
      "source": [
        "sns.catplot(data=accident_copy, x=\"Road_Type\", y=\"Number_of_Casualties\", \n",
        "            hue='Accident_Severity', hue_order=['Slight', 'Serious', 'Fatal'], kind=\"bar\")\n",
        "plt.xticks(rotation=20)\n",
        "plt.title('Number of Casualties For Each Road Type')\n",
        "plt.show()"
      ]
    },
    {
      "cell_type": "code",
      "execution_count": null,
      "metadata": {},
      "outputs": [],
      "source": [
        "sns.catplot(data=accident_copy, x=\"Urban_or_Rural_Area\", y=\"Number_of_Casualties\", \n",
        "            hue='Accident_Severity', hue_order=['Slight', 'Serious', 'Fatal'], kind=\"bar\")\n",
        "plt.xticks(rotation=20)\n",
        "plt.title('Number of Casualties For Each Area Type')\n",
        "plt.show()"
      ]
    },
    {
      "cell_type": "code",
      "execution_count": null,
      "metadata": {},
      "outputs": [],
      "source": [
        "#accident counts over time for each severity\n",
        "sns.barplot(data=accident_copy, x='Accident_Severity', y='Number_of_Casualties', \n",
        "            hue='Year', order=['Slight', 'Serious', 'Fatal'])\n",
        "plt.xlabel('Accident Severity')\n",
        "plt.ylabel('Number of Casualties')\n",
        "plt.title('Distribution of Casualty vs Severity Over Years')\n",
        "plt.show()"
      ]
    },
    {
      "cell_type": "code",
      "execution_count": null,
      "metadata": {},
      "outputs": [],
      "source": [
        "sns.lineplot(data=accident_copy, x='Month', y='Number_of_Casualties',\n",
        "              hue='Accident_Severity', palette=['green', 'blue', 'red'],\n",
        "              hue_order=['Slight', 'Serious', 'Fatal'])\n",
        "plt.xlabel('Months')\n",
        "plt.ylabel('Number of Casualties')\n",
        "plt.title('Distribution of Casualty vs Severity Over Months')\n",
        "plt.xticks(np.arange(1, 13))\n",
        "plt.show()"
      ]
    },
    {
      "cell_type": "markdown",
      "metadata": {
        "id": "H4w8zyUFZU9h"
      },
      "source": [
        "## Encoding"
      ]
    },
    {
      "cell_type": "code",
      "execution_count": null,
      "metadata": {
        "colab": {
          "base_uri": "https://localhost:8080/"
        },
        "id": "Pg0FUMW7LbU-",
        "outputId": "948389cd-e1a7-4f53-b216-35070fc41bdf"
      },
      "outputs": [],
      "source": [
        "# Use One Hot Encoder on all categorical columns except Weather_Conditions\n",
        "from sklearn.preprocessing import OneHotEncoder\n",
        "# categorical columns include Light_Conditions, District_Area,\n",
        "# Road_Surface_Conditions, Road_Type,\tUrban_or_Rural_Area,\n",
        "# Weather_Conditions, Vehicle_Type\n",
        "\n",
        "categorical = ['Road_Surface_Conditions', 'Road_Type',\t'Urban_or_Rural_Area', 'Vehicle_Type']\n",
        "\n",
        "for col in categorical:\n",
        "  ohe = OneHotEncoder()\n",
        "  categorical_ohe = ohe.fit_transform(accident_copy[[col]]).toarray()\n",
        "  df = pd.DataFrame(categorical_ohe, columns=list(ohe.categories_[0]))\n",
        "  accident_copy[ohe.categories_[0]] = categorical_ohe\n",
        "  accident_copy = accident_copy.drop(columns=[col])"
      ]
    },
    {
      "cell_type": "code",
      "execution_count": null,
      "metadata": {
        "colab": {
          "base_uri": "https://localhost:8080/",
          "height": 419
        },
        "id": "-gLJodb_JtCJ",
        "outputId": "83770f95-cf00-41ba-8445-4b366bfd2c19"
      },
      "outputs": [],
      "source": [
        "# use MultiLabelBinarizer on Weather_Conditions??\n",
        "from sklearn.preprocessing import MultiLabelBinarizer\n",
        "mlb = MultiLabelBinarizer()\n",
        "weather = mlb.fit_transform(accident_copy['Weather_Conditions'])\n",
        "# one for everything that was in the weather condition that day\n",
        "accident_copy[mlb.classes_] = weather\n",
        "accident_copy = accident_copy.drop(columns=['Weather_Conditions'])"
      ]
    },
    {
      "cell_type": "code",
      "execution_count": null,
      "metadata": {},
      "outputs": [],
      "source": [
        "# while there isn't a big difference in Slight accidents, Fatal changes a lot over the years\n",
        "accident_19 = accident_copy[accident_copy['Year'] == 2019]\n",
        "accident_20 = accident_copy[accident_copy['Year'] == 2020]\n",
        "accident_21 = accident_copy[accident_copy['Year'] == 2021]\n",
        "accident_22 = accident_copy[accident_copy['Year'] == 2022]"
      ]
    },
    {
      "cell_type": "code",
      "execution_count": null,
      "metadata": {},
      "outputs": [],
      "source": [
        "accident_20"
      ]
    },
    {
      "cell_type": "code",
      "execution_count": null,
      "metadata": {},
      "outputs": [],
      "source": []
    },
    {
      "cell_type": "code",
      "execution_count": null,
      "metadata": {},
      "outputs": [],
      "source": []
    }
  ],
  "metadata": {
    "colab": {
      "authorship_tag": "ABX9TyOJKHTIj/G5ZaUmYqloMMGO",
      "provenance": []
    },
    "kernelspec": {
      "display_name": "Python 3",
      "name": "python3"
    },
    "language_info": {
      "codemirror_mode": {
        "name": "ipython",
        "version": 3
      },
      "file_extension": ".py",
      "mimetype": "text/x-python",
      "name": "python",
      "nbconvert_exporter": "python",
      "pygments_lexer": "ipython3",
      "version": "3.11.5"
    }
  },
  "nbformat": 4,
  "nbformat_minor": 0
}
